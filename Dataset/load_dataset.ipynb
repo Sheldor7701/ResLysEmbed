{
 "cells": [
  {
   "cell_type": "code",
   "execution_count": 9,
   "metadata": {},
   "outputs": [
    {
     "name": "stdout",
     "output_type": "stream",
     "text": [
      "(4748, 1024)\n",
      "(4749, 1024)\n",
      "(9497, 1024)\n",
      "(9497,)\n"
     ]
    }
   ],
   "source": [
    "import pandas as pd\n",
    "import numpy as np\n",
    "\n",
    "\n",
    "# Load the data\n",
    "neg_train = pd.read_csv('train/features/train_negative_ProtT5-XL-UniRef50.csv')\n",
    "pos_train = pd.read_csv('train/features/train_positive_ProtT5-XL-UniRef50.csv')\n",
    "\n",
    "# Remove the first two columns\n",
    "pos_train = pos_train.iloc[:, 2:]\n",
    "neg_train = neg_train.iloc[:, 2:]\n",
    "\n",
    "# Print shapes to confirm\n",
    "print(pos_train.shape)\n",
    "print(neg_train.shape)\n",
    "\n",
    "train_data = np.vstack((pos_train,neg_train))\n",
    "\n",
    "print(train_data.shape)\n",
    "\n",
    "train_positive_labels = np.ones(pos_train.shape[0])\n",
    "train_negative_labels = np.zeros(neg_train.shape[0])\n",
    "\n",
    "y_train_full = np.concatenate((train_positive_labels, train_negative_labels), axis = 0)\n",
    "\n",
    "print(y_train_full.shape)\n"
   ]
  }
 ],
 "metadata": {
  "kernelspec": {
   "display_name": "Python 3",
   "language": "python",
   "name": "python3"
  },
  "language_info": {
   "codemirror_mode": {
    "name": "ipython",
    "version": 3
   },
   "file_extension": ".py",
   "mimetype": "text/x-python",
   "name": "python",
   "nbconvert_exporter": "python",
   "pygments_lexer": "ipython3",
   "version": "3.10.6"
  }
 },
 "nbformat": 4,
 "nbformat_minor": 2
}
