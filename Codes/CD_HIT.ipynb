{
  "nbformat": 4,
  "nbformat_minor": 0,
  "metadata": {
    "colab": {
      "provenance": []
    },
    "kernelspec": {
      "name": "python3",
      "display_name": "Python 3"
    },
    "language_info": {
      "name": "python"
    }
  },
  "cells": [
    {
      "cell_type": "code",
      "execution_count": null,
      "metadata": {
        "id": "L_YZPsJg65bj"
      },
      "outputs": [],
      "source": [
        "!sudo apt-get install cd-hit"
      ]
    },
    {
      "cell_type": "code",
      "source": [
        "!cd-hit --help"
      ],
      "metadata": {
        "id": "raJiaViD7Gsi"
      },
      "execution_count": null,
      "outputs": []
    },
    {
      "cell_type": "code",
      "source": [
        "!sudo apt-get install ncbi-blast+"
      ],
      "metadata": {
        "id": "7ypRIcqT6PRh"
      },
      "execution_count": null,
      "outputs": []
    },
    {
      "cell_type": "code",
      "source": [
        "!git clone https://github.com/weizhongli/cdhit.git"
      ],
      "metadata": {
        "id": "hAFeosrf2ufS"
      },
      "execution_count": null,
      "outputs": []
    },
    {
      "cell_type": "code",
      "source": [
        "%cd /content/cdhit/psi-cd-hit\n",
        "!pwd"
      ],
      "metadata": {
        "id": "FLZV04z4XNYk"
      },
      "execution_count": null,
      "outputs": []
    },
    {
      "cell_type": "code",
      "source": [
        "!./psi-cd-hit.pl -i merger.txt -o output.fasta -c 0.3"
      ],
      "metadata": {
        "id": "qgD92OFd71A5"
      },
      "execution_count": null,
      "outputs": []
    },
    {
      "cell_type": "code",
      "source": [
        "# for removing unnecessary folders and files\n",
        "!rm -r /content/merger.txt-blm"
      ],
      "metadata": {
        "id": "lb_ohe7Q7Kfx"
      },
      "execution_count": null,
      "outputs": []
    }
  ]
}