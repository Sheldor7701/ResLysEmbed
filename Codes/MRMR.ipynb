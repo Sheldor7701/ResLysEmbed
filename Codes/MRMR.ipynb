{
  "nbformat": 4,
  "nbformat_minor": 0,
  "metadata": {
    "colab": {
      "provenance": []
    },
    "kernelspec": {
      "name": "python3",
      "display_name": "Python 3"
    },
    "language_info": {
      "name": "python"
    }
  },
  "cells": [
    {
      "cell_type": "code",
      "execution_count": 2,
      "metadata": {
        "colab": {
          "base_uri": "https://localhost:8080/"
        },
        "id": "9IWhmQlLgn-i",
        "outputId": "fa4799ff-3dcc-490d-a033-4bc854f46830"
      },
      "outputs": [
        {
          "output_type": "stream",
          "name": "stdout",
          "text": [
            "Collecting pymrmr\n",
            "  Downloading pymrmr-0.1.11.tar.gz (69 kB)\n",
            "\u001b[?25l     \u001b[90m━━━━━━━━━━━━━━━━━━━━━━━━━━━━━━━━━━━━━━━━\u001b[0m \u001b[32m0.0/69.5 kB\u001b[0m \u001b[31m?\u001b[0m eta \u001b[36m-:--:--\u001b[0m\r\u001b[2K     \u001b[90m━━━━━━━━━━━━━━━━━━━━━━━━━━━━━━━━━━━━━━━━\u001b[0m \u001b[32m69.5/69.5 kB\u001b[0m \u001b[31m4.0 MB/s\u001b[0m eta \u001b[36m0:00:00\u001b[0m\n",
            "\u001b[?25h  Preparing metadata (setup.py) ... \u001b[?25l\u001b[?25hdone\n",
            "Requirement already satisfied: numpy>=1.19.5 in /usr/local/lib/python3.10/dist-packages (from pymrmr) (1.26.4)\n",
            "Building wheels for collected packages: pymrmr\n",
            "  Building wheel for pymrmr (setup.py) ... \u001b[?25l\u001b[?25hdone\n",
            "  Created wheel for pymrmr: filename=pymrmr-0.1.11-cp310-cp310-linux_x86_64.whl size=390768 sha256=fd230ddd3ca3e37d4321133b5bfac81d3601e11f85d04af7222efe48fb7a14fc\n",
            "  Stored in directory: /root/.cache/pip/wheels/46/ae/55/4a2479c5f0de7eb363fe970cb18e4a750e03e4e63b1b5c2005\n",
            "Successfully built pymrmr\n",
            "Installing collected packages: pymrmr\n",
            "Successfully installed pymrmr-0.1.11\n"
          ]
        }
      ],
      "source": [
        "!pip install pymrmr"
      ]
    },
    {
      "cell_type": "code",
      "source": [
        "import pandas as pd\n",
        "import numpy as np\n",
        "import keras\n",
        "from keras.models import Sequential\n",
        "from sklearn.utils import shuffle\n",
        "from tensorflow.keras.models import Model\n",
        "from tensorflow.keras.layers import Input, Dense, Dropout, Concatenate, BatchNormalization, Activation\n",
        "from tensorflow.keras.optimizers import Adam\n",
        "from tensorflow.keras.callbacks import EarlyStopping\n",
        "from sklearn.model_selection import train_test_split\n",
        "from sklearn.metrics import mean_squared_error\n",
        "from tensorflow.keras.losses import BinaryCrossentropy\n",
        "from tensorflow.keras.callbacks import ModelCheckpoint\n",
        "from sklearn.metrics import confusion_matrix, matthews_corrcoef, accuracy_score, roc_auc_score, roc_curve, auc, precision_recall_curve, average_precision_score\n",
        "import matplotlib.pyplot as plt\n",
        "from sklearn.model_selection import KFold\n",
        "import tensorflow as tf\n",
        "from keras.models import Sequential\n",
        "from keras.layers import Embedding, Conv1D, Dropout, MaxPooling1D, Flatten, Dense, LayerNormalization, BatchNormalization, Activation\n",
        "import os\n",
        "import random\n",
        "from  keras.regularizers import l2\n",
        "from sklearn.preprocessing import PowerTransformer\n"
      ],
      "metadata": {
        "id": "OWfaC2KQitqP"
      },
      "execution_count": 4,
      "outputs": []
    },
    {
      "cell_type": "code",
      "source": [
        "train = pd.read_csv('/content/train_t5_pssm.csv')\n",
        "train_esm_650 = pd.read_csv('/content/train_esm650.csv')\n",
        "train_esm_3B = pd.read_csv('/content/train_esm.csv')\n",
        "\n",
        "\n",
        "print(train.shape)\n",
        "\n",
        "\n",
        "# Convert the embedding strings to numpy arrays\n",
        "X_train_embeddings = train['embedding'].apply(lambda x: np.array([float(i) for i in x.strip('[]').split()]))\n",
        "\n",
        "\n",
        "X_train_PSSM = train['PSSM'].apply(lambda x: np.array([float(i) for i in x.strip(\"[]\").split()]))\n",
        "\n",
        "\n",
        "X_train_PSSM = np.stack(X_train_PSSM.values)\n",
        "\n",
        "\n",
        "# Convert to a numpy array if needed\n",
        "X_train_pt5 = np.stack(X_train_embeddings.values)\n",
        "\n",
        "\n",
        "# use power transform to normalize the pssm\n",
        "scaler = PowerTransformer()\n",
        "X_train_PSSM = scaler.fit_transform(X_train_PSSM)\n",
        "\n",
        "X_train_esm_650 = train_esm_650['embedding'].apply(lambda x: np.array([float(i) for i in x.strip('[]').split()]))\n",
        "\n",
        "\n",
        "X_train_esm_650 = np.stack(X_train_esm_650.values)\n",
        "\n",
        "\n",
        "X_train_esm_3B = train_esm_3B['embedding'].apply(lambda x: np.array([float(i) for i in x.strip('[]').split()]))\n",
        "\n",
        "X_train_esm_3B = np.stack(X_train_esm_3B.values)\n",
        "\n",
        "# Extract sequences\n",
        "X_train = train['sequence'].values\n",
        "\n",
        "\n",
        "# Extract labels\n",
        "y_train = train['label'].values\n",
        "\n",
        "\n",
        "# Extract sequences\n",
        "X_train = train['sequence'].values\n",
        "\n",
        "\n",
        "# Extract labels\n",
        "y_train = train['label'].values\n",
        "\n",
        "\n",
        "# Create a dictionary to map amino acids to integers\n",
        "amino_acids = 'ACDEFGHIKLMNPQRSTVWY-'\n",
        "aa_to_int = {aa: i for i, aa in enumerate(amino_acids)}\n",
        "\n",
        "# Convert the sequences to a numerical format and convert to numpy arrays\n",
        "X_train_num = [[aa_to_int[aa] for aa in seq] for seq in X_train]\n",
        "\n",
        "X_train_num = np.array(X_train_num)\n",
        "\n",
        "# Pass the sequences through the embedding layer\n",
        "X_train_num = np.eye(21)[X_train_num]\n",
        "#flatten the array\n",
        "X_train_num = X_train_num.reshape(X_train_num.shape[0], X_train_num.shape[1]*X_train_num.shape[2])\n",
        "\n",
        "\n",
        "#print shapes\n",
        "print(X_train_pt5.shape)\n",
        "\n",
        "print(X_train_esm_650.shape)\n",
        "\n",
        "print(X_train_esm_3B.shape)\n",
        "\n",
        "print(X_train_PSSM.shape)\n",
        "\n",
        "print(X_train_num.shape)\n",
        "\n",
        "print(y_train.shape)\n",
        "\n",
        "\n"
      ],
      "metadata": {
        "colab": {
          "base_uri": "https://localhost:8080/"
        },
        "id": "pjQqoBQ_ipcL",
        "outputId": "9a3c2664-a3b3-4b31-a81b-4bdcd0904440"
      },
      "execution_count": 17,
      "outputs": [
        {
          "output_type": "stream",
          "name": "stdout",
          "text": [
            "(8411, 6)\n",
            "(8411, 1024)\n",
            "(8411, 1280)\n",
            "(8411, 2560)\n",
            "(8411, 20)\n",
            "(8411, 693)\n",
            "(8411,)\n"
          ]
        }
      ]
    },
    {
      "cell_type": "code",
      "source": [
        "from sklearn.decomposition import PCA\n",
        "from sklearn.preprocessing import StandardScaler\n",
        "\n",
        "# Example with one group (word_embedding)\n",
        "def apply_pca_to_group(X_group, n_components=10):\n",
        "    scaler = StandardScaler()\n",
        "    X_scaled = scaler.fit_transform(X_group)\n",
        "    pca = PCA(n_components=n_components)\n",
        "    X_pca = pca.fit_transform(X_scaled)\n",
        "    return X_pca, pca.explained_variance_ratio_\n",
        "\n",
        "word_embedding_pca, word_embedding_var_ratio = apply_pca_to_group(X_train_num)\n",
        "print(\"Word Embedding Explained Variance:\", word_embedding_var_ratio)\n",
        "prot_t5_pca, prot_t5_var_ratio = apply_pca_to_group(X_train_pt5)\n",
        "print(\"Prot_t5 Explained Variance:\", prot_t5_var_ratio)\n",
        "esm_650_pca, esm_650_var_ratio = apply_pca_to_group(X_train_esm_650)\n",
        "print(\"ESM_650 Explained Variance:\", esm_650_var_ratio)\n",
        "esm_3B_pca, esm_3B_var_ratio = apply_pca_to_group(X_train_esm_3B)\n",
        "print(\"ESM_3B Explained Variance:\", esm_3B_var_ratio)\n",
        "pssm_pca, pssm_var_ratio = apply_pca_to_group(X_train_PSSM)\n",
        "print(\"PSSM Explained Variance:\", pssm_var_ratio)\n",
        "\n"
      ],
      "metadata": {
        "colab": {
          "base_uri": "https://localhost:8080/"
        },
        "id": "60PJxx4sjCIr",
        "outputId": "9d699168-c550-4eef-ee4f-13a5ef3548f4"
      },
      "execution_count": 26,
      "outputs": [
        {
          "output_type": "stream",
          "name": "stdout",
          "text": [
            "Word Embedding Explained Variance: [0.01762439 0.01635325 0.00354433 0.00344176 0.00334695 0.00303774\n",
            " 0.0027774  0.00270296 0.00262217 0.0025964 ]\n",
            "Prot_t5 Explained Variance: [0.04825255 0.02942512 0.02706921 0.02014168 0.01807625 0.01528529\n",
            " 0.01364655 0.01240348 0.01173866 0.01119771]\n",
            "ESM_650 Explained Variance: [0.06721411 0.01911797 0.01506379 0.01214531 0.01150833 0.01074919\n",
            " 0.00862866 0.00811104 0.00773854 0.00751087]\n",
            "ESM_3B Explained Variance: [0.05641356 0.0126858  0.00948623 0.00815983 0.00708505 0.00667284\n",
            " 0.00614061 0.00553349 0.0053167  0.00491223]\n",
            "PSSM Explained Variance: [0.47052615 0.11999805 0.0768104  0.04755546 0.0406321  0.03425318\n",
            " 0.0292239  0.02510213 0.02350271 0.02063087]\n"
          ]
        }
      ]
    },
    {
      "cell_type": "code",
      "source": [
        "import pandas as pd\n",
        "import numpy as np\n",
        "import pymrmr\n",
        "\n",
        "# Concatenate all PCA-transformed data and ensure target variable is included\n",
        "X_train_pca = np.hstack([word_embedding_pca, prot_t5_pca, esm_650_pca, esm_3B_pca, pssm_pca])\n",
        "\n",
        "# Create a DataFrame from the PCA features and add the target variable\n",
        "X_train_pca_df = pd.DataFrame(X_train_pca)\n",
        "X_train_pca_df['target'] = y_train  # Assuming y_train is your target variable\n",
        "\n",
        "# Reorder the DataFrame to have the target as the first column\n",
        "X_train_pca_df = X_train_pca_df[['target'] + [col for col in X_train_pca_df.columns if col != 'target']]\n",
        "\n",
        "# Ensure the target variable is categorical (if applicable)\n",
        "X_train_pca_df['target'] = X_train_pca_df['target'].astype('category')\n",
        "\n",
        "#*** Change the column names to strings ***\n",
        "X_train_pca_df.columns = X_train_pca_df.columns.astype(str)\n",
        "\n",
        "# Apply mRMR for feature selection (e.g., select top 10 features)\n",
        "selected_features = pymrmr.mRMR(X_train_pca_df, 'MIQ', 20)  # 'MIQ' for Maximal Information Quotient\n",
        "\n",
        "# Print the selected features\n",
        "print(\"Selected features by mRMR:\", selected_features)\n"
      ],
      "metadata": {
        "colab": {
          "base_uri": "https://localhost:8080/"
        },
        "id": "Syss15Kmjr02",
        "outputId": "96d712ab-e6bd-4c25-8742-9cf96e4edef8"
      },
      "execution_count": 27,
      "outputs": [
        {
          "output_type": "stream",
          "name": "stdout",
          "text": [
            "Selected features by mRMR: ['11', '7', '46', '6', '4', '17', '14', '12', '9', '19', '41', '13', '16', '2', '49', '15', '5', '26', '0', '21']\n"
          ]
        }
      ]
    },
    {
      "cell_type": "code",
      "source": [
        "import matplotlib.pyplot as plt\n",
        "\n",
        "# Count how many features were selected from each group\n",
        "feature_groups = ['word_embedding', 'prot_t5', 'esm_650', 'esm_3B', 'pssm']\n",
        "num_features_per_group = {group: 0 for group in feature_groups}\n",
        "\n",
        "# Loop through the selected features to count them\n",
        "for feature in selected_features:\n",
        "    feature = int(feature)\n",
        "    if feature < 10:\n",
        "        num_features_per_group['word_embedding'] += 1\n",
        "    elif feature < 20:\n",
        "        num_features_per_group['prot_t5'] += 1\n",
        "    elif feature < 30:\n",
        "        num_features_per_group['esm_650'] += 1\n",
        "    elif feature < 40:\n",
        "        num_features_per_group['esm_3B'] += 1\n",
        "    elif feature < 50:\n",
        "        num_features_per_group['pssm'] += 1\n",
        "\n",
        "# Prepare data for plotting\n",
        "groups = list(num_features_per_group.keys())\n",
        "counts = list(num_features_per_group.values())\n",
        "\n",
        "# Plotting\n",
        "plt.figure(figsize=(10, 6))\n",
        "plt.bar(groups, counts, color='skyblue')\n",
        "plt.xlabel('Feature Groups')\n",
        "plt.ylabel('Number of Selected Features')\n",
        "plt.title('Number of Features Selected from Each Group')\n",
        "plt.xticks(rotation=45)\n",
        "plt.grid(axis='y', linestyle='--', alpha=0.7)\n",
        "plt.tight_layout()\n",
        "plt.show()\n"
      ],
      "metadata": {
        "colab": {
          "base_uri": "https://localhost:8080/",
          "height": 560
        },
        "id": "pDImLJ3gmwCj",
        "outputId": "8b993433-9f98-4c74-ceff-b3238a76943c"
      },
      "execution_count": 30,
      "outputs": [
        {
          "output_type": "display_data",
          "data": {
            "text/plain": [
              "<Figure size 1000x600 with 1 Axes>"
            ],
            "image/png": "[encoded data removed]"
          },
          "metadata": {}
        }
      ]
    }
  ]
}