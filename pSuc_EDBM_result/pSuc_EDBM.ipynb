{
 "cells": [
  {
   "cell_type": "code",
   "execution_count": 15,
   "metadata": {},
   "outputs": [
    {
     "name": "stdout",
     "output_type": "stream",
     "text": [
      "3085\n"
     ]
    }
   ],
   "source": [
    "import pandas as pd\n",
    "import os\n",
    "\n",
    "# read every csv file from a folder and concatenate them into a single dataframe with a new column for the filename as protein_id\n",
    "folder = 'proba/'\n",
    "dfs = []\n",
    "for file in os.listdir(folder):\n",
    "    if file.endswith('.csv'):\n",
    "        df = pd.read_csv(folder + file)\n",
    "        df.columns = ['site', 'probability']\n",
    "        df['protein_id'] = file.split('.')[0]\n",
    "        dfs.append(df)\n",
    "df = pd.concat(dfs, ignore_index=True)\n",
    "\n",
    "test = pd.read_csv('../../Embeddings/Prot_t5/test_t5.csv')\n",
    "\n",
    "# match the protein_id , site and add label from test to the dataframe\n",
    "df['site'] = df['site'].astype(str)\n",
    "df['site'] = df['site'].str.replace('site_', '')\n",
    "df['site'] = df['site'].astype(int)\n",
    "df = df.merge(test, on=['protein_id', 'site'], how='left')\n",
    "\n",
    "df.drop(columns=['embedding', 'sequence'], inplace=True)\n",
    "\n",
    "df.dropna(subset=['label'], inplace=True)\n",
    "\n",
    "print(len(df))\n",
    "\n",
    "df.to_csv('proba.csv', index=False)"
   ]
  }
 ],
 "metadata": {
  "kernelspec": {
   "display_name": "Python 3",
   "language": "python",
   "name": "python3"
  },
  "language_info": {
   "codemirror_mode": {
    "name": "ipython",
    "version": 3
   },
   "file_extension": ".py",
   "mimetype": "text/x-python",
   "name": "python",
   "nbconvert_exporter": "python",
   "pygments_lexer": "ipython3",
   "version": "3.12.6"
  }
 },
 "nbformat": 4,
 "nbformat_minor": 2
}
